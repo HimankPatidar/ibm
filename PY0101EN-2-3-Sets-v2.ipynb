{
 "cells": [
  {
   "cell_type": "markdown",
   "id": "6d2ccdec-9590-4c34-9960-423f51f5e329",
   "metadata": {},
   "source": [
    "<p style=\"text-align:center\">\n",
    "    <a href=\"https://skills.network\" target=\"_blank\">\n",
    "    <img src=\"https://cf-courses-data.s3.us.cloud-object-storage.appdomain.cloud/assets/logos/SN_web_lightmode.png\" width=\"200\" alt=\"Skills Network Logo\">\n",
    "    </a>\n",
    "</p>\n",
    "\n",
    "# Sets in Python\n",
    "\n",
    "\n",
    "Estimated time needed: **20** minutes\n",
    "    \n",
    "\n",
    "## Objectives\n",
    "\n",
    "After completing this lab you will be able to:\n",
    "\n",
    "* Work with sets in Python, including operations and logic operations.\n"
   ]
  },
  {
   "cell_type": "markdown",
   "id": "32b46fbd-2a32-459b-bce8-c528ecea561c",
   "metadata": {},
   "source": [
    "<h2>Table of Contents</h2>\n",
    "<div class=\"alert alert-block alert-info\" style=\"margin-top: 20px\">\n",
    "    <ul>\n",
    "        <li>\n",
    "            <a href=\"#set\">Sets</a>\n",
    "            <ul>\n",
    "                <li><a href=\"content\">Set Content</a></li>\n",
    "                <li><a href=\"op\">Set Operations</a></li>\n",
    "                <li><a href=\"logic\">Sets Logic Operations</a></li>\n",
    "            </ul>\n",
    "        </li>\n",
    "        <li>\n",
    "            <a href=\"#quiz\">Quiz on Sets</a>\n",
    "        </li>\n",
    "    </ul>\n",
    " \n",
    "</div>\n",
    "\n",
    "<hr>\n"
   ]
  },
  {
   "cell_type": "markdown",
   "id": "32410b21-0383-4cf7-a834-f72da0d9bbf0",
   "metadata": {},
   "source": [
    "<h2 id=\"set\">Sets</h2>\n"
   ]
  },
  {
   "cell_type": "markdown",
   "id": "71eeba46-3c05-4edf-be33-8960f51d0b60",
   "metadata": {},
   "source": [
    "<h3 id=\"content\">Set Content</h3>\n"
   ]
  },
  {
   "cell_type": "markdown",
   "id": "dd4406f9-7c72-45a1-9fbd-598d50672dc1",
   "metadata": {},
   "source": [
    "A set is a unique collection of objects in Python. You can denote a set with a pair of curly brackets <b>{}</b>. Python will automatically remove duplicate items:\n"
   ]
  },
  {
   "cell_type": "code",
   "execution_count": 2,
   "id": "14acb18f-98da-4a8c-9b98-e247093c12f9",
   "metadata": {},
   "outputs": [
    {
     "data": {
      "text/plain": [
       "{'R&B', 'disco', 'hard rock', 'pop', 'rock', 'soul'}"
      ]
     },
     "execution_count": 2,
     "metadata": {},
     "output_type": "execute_result"
    }
   ],
   "source": [
    "# Create a set\n",
    "\n",
    "set1 = {\"pop\", \"rock\", \"soul\", \"hard rock\", \"rock\", \"R&B\", \"rock\", \"disco\"}\n",
    "set1"
   ]
  },
  {
   "cell_type": "markdown",
   "id": "3c2403ea-0a22-4028-be5d-2440ee4528d7",
   "metadata": {},
   "source": [
    "The process of mapping is illustrated in the figure:\n"
   ]
  },
  {
   "cell_type": "markdown",
   "id": "5eee6886-e496-471c-8182-30e09a16b875",
   "metadata": {},
   "source": [
    "<img src=\"https://cf-courses-data.s3.us.cloud-object-storage.appdomain.cloud/IBMDeveloperSkillsNetwork-PY0101EN-SkillsNetwork/labs/Module%202/images/SetsUnique.png\" width=\"1100\">\n"
   ]
  },
  {
   "cell_type": "markdown",
   "id": "3ca3aca8-18dc-40fb-8230-51e29b544440",
   "metadata": {},
   "source": [
    " You can also  create a set from a list as follows:\n"
   ]
  },
  {
   "cell_type": "code",
   "execution_count": 3,
   "id": "52b66021-7066-48e9-bea0-a1c2976c1afd",
   "metadata": {},
   "outputs": [
    {
     "data": {
      "text/plain": [
       "{'00:42:19',\n",
       " 10.0,\n",
       " 1982,\n",
       " '30-Nov-82',\n",
       " 46.0,\n",
       " 65,\n",
       " 'Michael Jackson',\n",
       " None,\n",
       " 'Pop, Rock, R&B',\n",
       " 'Thriller'}"
      ]
     },
     "execution_count": 3,
     "metadata": {},
     "output_type": "execute_result"
    }
   ],
   "source": [
    "# Convert list to set\n",
    "\n",
    "album_list = [ \"Michael Jackson\", \"Thriller\", 1982, \"00:42:19\", \\\n",
    "              \"Pop, Rock, R&B\", 46.0, 65, \"30-Nov-82\", None, 10.0]\n",
    "album_set = set(album_list)             \n",
    "album_set"
   ]
  },
  {
   "cell_type": "markdown",
   "id": "86100fc8-a1d3-4be3-8855-223e77bbfe03",
   "metadata": {},
   "source": [
    "Now let us create a set of  genres:\n"
   ]
  },
  {
   "cell_type": "code",
   "execution_count": 4,
   "id": "f90e8a04-521a-4a62-ad5f-f4c85994e761",
   "metadata": {},
   "outputs": [
    {
     "data": {
      "text/plain": [
       "{'R&B',\n",
       " 'disco',\n",
       " 'folk rock',\n",
       " 'hard rock',\n",
       " 'pop',\n",
       " 'progressive rock',\n",
       " 'rock',\n",
       " 'soft rock',\n",
       " 'soul'}"
      ]
     },
     "execution_count": 4,
     "metadata": {},
     "output_type": "execute_result"
    }
   ],
   "source": [
    "# Convert list to set\n",
    "\n",
    "music_genres = set([\"pop\", \"pop\", \"rock\", \"folk rock\", \"hard rock\", \"soul\", \\\n",
    "                    \"progressive rock\", \"soft rock\", \"R&B\", \"disco\"])\n",
    "music_genres"
   ]
  },
  {
   "cell_type": "markdown",
   "id": "9371592d-7d87-45fe-bf28-17dcc64f3d90",
   "metadata": {},
   "source": [
    "<h3 id=\"op\">Set Operations</h3> \n"
   ]
  },
  {
   "cell_type": "markdown",
   "id": "db90a163-4b74-4b8c-84c7-fa960670f1b5",
   "metadata": {},
   "source": [
    "Let us go over set operations, as these can be used to change the set. Consider the set <b>A</b>:\n"
   ]
  },
  {
   "cell_type": "code",
   "execution_count": 5,
   "id": "6f3d8641-5249-490c-afdf-efc6a3107587",
   "metadata": {},
   "outputs": [
    {
     "data": {
      "text/plain": [
       "{'AC/DC', 'Back in Black', 'Thriller'}"
      ]
     },
     "execution_count": 5,
     "metadata": {},
     "output_type": "execute_result"
    }
   ],
   "source": [
    "# Sample set\n",
    "\n",
    "A = set([\"Thriller\", \"Back in Black\", \"AC/DC\"])\n",
    "A"
   ]
  },
  {
   "cell_type": "markdown",
   "id": "4c415e55-a9fe-4974-bd03-f984874cd93a",
   "metadata": {},
   "source": [
    " We can add an element to a set using the <code>add()</code> method: \n"
   ]
  },
  {
   "cell_type": "code",
   "execution_count": 6,
   "id": "bac0780b-d477-4710-ba46-cc3b19e1086f",
   "metadata": {},
   "outputs": [
    {
     "data": {
      "text/plain": [
       "{'AC/DC', 'Back in Black', 'NSYNC', 'Thriller'}"
      ]
     },
     "execution_count": 6,
     "metadata": {},
     "output_type": "execute_result"
    }
   ],
   "source": [
    "# Add element to set\n",
    "\n",
    "A.add(\"NSYNC\")\n",
    "A"
   ]
  },
  {
   "cell_type": "markdown",
   "id": "8b47ac87-7c8c-4d68-971c-eb0032b346fd",
   "metadata": {},
   "source": [
    " If we add the same element twice, nothing will happen as there can be no duplicates in a set:\n"
   ]
  },
  {
   "cell_type": "code",
   "execution_count": 7,
   "id": "8dd31b55-e26d-4f3a-963a-bed2e4eedde5",
   "metadata": {},
   "outputs": [
    {
     "data": {
      "text/plain": [
       "{'AC/DC', 'Back in Black', 'NSYNC', 'Thriller'}"
      ]
     },
     "execution_count": 7,
     "metadata": {},
     "output_type": "execute_result"
    }
   ],
   "source": [
    "# Try to add duplicate element to the set\n",
    "\n",
    "A.add(\"NSYNC\")\n",
    "A"
   ]
  },
  {
   "cell_type": "markdown",
   "id": "20f206b0-103f-4a6e-bb1b-803422f748b5",
   "metadata": {},
   "source": [
    " We can remove an item from a set using the <code>remove</code> method:\n"
   ]
  },
  {
   "cell_type": "code",
   "execution_count": 8,
   "id": "6929c119-8d48-486e-ab4b-868d96aee151",
   "metadata": {},
   "outputs": [
    {
     "data": {
      "text/plain": [
       "{'AC/DC', 'Back in Black', 'Thriller'}"
      ]
     },
     "execution_count": 8,
     "metadata": {},
     "output_type": "execute_result"
    }
   ],
   "source": [
    "# Remove the element from set\n",
    "\n",
    "A.remove(\"NSYNC\")\n",
    "A"
   ]
  },
  {
   "cell_type": "markdown",
   "id": "ce6f6e46-eae3-40b8-a943-ce79bedbba68",
   "metadata": {},
   "source": [
    " We can verify if an element is in the set using the <code>in</code> command:\n"
   ]
  },
  {
   "cell_type": "code",
   "execution_count": 9,
   "id": "778c4b87-96ed-414b-be57-575c08c144da",
   "metadata": {},
   "outputs": [
    {
     "data": {
      "text/plain": [
       "True"
      ]
     },
     "execution_count": 9,
     "metadata": {},
     "output_type": "execute_result"
    }
   ],
   "source": [
    "# Verify if the element is in the set\n",
    "\n",
    "\"AC/DC\" in A"
   ]
  },
  {
   "cell_type": "markdown",
   "id": "ab17f835-6e14-4461-b65b-ae12fbaeadcc",
   "metadata": {},
   "source": [
    "<h3 id=\"logic\">Sets Logic Operations</h3>\n"
   ]
  },
  {
   "cell_type": "markdown",
   "id": "85e37ba6-2286-44fb-b4af-b75d290b46c4",
   "metadata": {},
   "source": [
    "Remember that with sets you can check the difference between sets, as well as the symmetric difference, intersection, and union:\n"
   ]
  },
  {
   "cell_type": "markdown",
   "id": "545b547f-2c69-4214-992a-c516490880db",
   "metadata": {},
   "source": [
    " Consider the following two sets:\n"
   ]
  },
  {
   "cell_type": "code",
   "execution_count": 10,
   "id": "e556f0a8-902b-4800-81fc-ffea8268a6d4",
   "metadata": {},
   "outputs": [],
   "source": [
    "# Sample Sets\n",
    "\n",
    "album_set1 = set([\"Thriller\", 'AC/DC', 'Back in Black'])\n",
    "album_set2 = set([ \"AC/DC\", \"Back in Black\", \"The Dark Side of the Moon\"])"
   ]
  },
  {
   "cell_type": "markdown",
   "id": "8028db30-730b-4043-ade8-04f1ccd6cb2b",
   "metadata": {},
   "source": [
    "<img src=\"https://cf-courses-data.s3.us.cloud-object-storage.appdomain.cloud/IBMDeveloperSkillsNetwork-PY0101EN-SkillsNetwork/labs/Module%202/images/SetsSamples.png\" width=\"650\">\n"
   ]
  },
  {
   "cell_type": "code",
   "execution_count": 11,
   "id": "230a399b-f671-4d29-b4e2-f0f17eae35b7",
   "metadata": {},
   "outputs": [
    {
     "data": {
      "text/plain": [
       "({'AC/DC', 'Back in Black', 'Thriller'},\n",
       " {'AC/DC', 'Back in Black', 'The Dark Side of the Moon'})"
      ]
     },
     "execution_count": 11,
     "metadata": {},
     "output_type": "execute_result"
    }
   ],
   "source": [
    "# Print two sets\n",
    "\n",
    "album_set1, album_set2"
   ]
  },
  {
   "cell_type": "markdown",
   "id": "bee3039a-0ff8-40e4-83af-418ab96ca1bc",
   "metadata": {},
   "source": [
    "As both sets contain <b>AC/DC</b> and <b>Back in Black</b> we represent these common elements with the intersection of two circles.\n"
   ]
  },
  {
   "cell_type": "markdown",
   "id": "d5077100-b668-48b3-81c9-6d932be10d21",
   "metadata": {},
   "source": [
    "<img src=\"https://cf-courses-data.s3.us.cloud-object-storage.appdomain.cloud/IBMDeveloperSkillsNetwork-PY0101EN-SkillsNetwork/labs/Module%202/images/SetsLogic.png\" width=\"650\">\n"
   ]
  },
  {
   "cell_type": "markdown",
   "id": "2621e7bc-25a3-4bf2-a18f-cec40ff53a88",
   "metadata": {},
   "source": [
    "You can find the intersect of two sets as follow using <code>&</code>:\n"
   ]
  },
  {
   "cell_type": "code",
   "execution_count": 12,
   "id": "2ae51d94-ad1a-4d3a-a107-13c404aeb715",
   "metadata": {},
   "outputs": [
    {
     "data": {
      "text/plain": [
       "{'AC/DC', 'Back in Black'}"
      ]
     },
     "execution_count": 12,
     "metadata": {},
     "output_type": "execute_result"
    }
   ],
   "source": [
    "# Find the intersections\n",
    "\n",
    "intersection = album_set1 & album_set2\n",
    "intersection"
   ]
  },
  {
   "cell_type": "markdown",
   "id": "9dbb4720-d503-4554-aa91-321084e6c69b",
   "metadata": {},
   "source": [
    "You can find all the elements that are only contained in <code>album_set1</code> using the <code>difference</code> method:\n"
   ]
  },
  {
   "cell_type": "code",
   "execution_count": 13,
   "id": "73ce52bb-1c98-4375-ae41-b8dd8fa6cfdf",
   "metadata": {},
   "outputs": [
    {
     "data": {
      "text/plain": [
       "{'Thriller'}"
      ]
     },
     "execution_count": 13,
     "metadata": {},
     "output_type": "execute_result"
    }
   ],
   "source": [
    "# Find the difference in set1 but not set2\n",
    "\n",
    "album_set1.difference(album_set2)  "
   ]
  },
  {
   "cell_type": "markdown",
   "id": "0d7a61be-35a7-4387-a2ef-553d94782934",
   "metadata": {},
   "source": [
    "You only need to consider elements in <code>album_set1</code>; all the elements in <code>album_set2</code>, including the intersection, are not included.\n"
   ]
  },
  {
   "cell_type": "markdown",
   "id": "15fb8c70-5f7f-42ba-844d-7c12a977fb75",
   "metadata": {},
   "source": [
    "<img src=\"https://cf-courses-data.s3.us.cloud-object-storage.appdomain.cloud/IBMDeveloperSkillsNetwork-PY0101EN-SkillsNetwork/labs/Module%202/images/SetsLeft.png\" width=\"650\">\n"
   ]
  },
  {
   "cell_type": "markdown",
   "id": "421a4902-3597-47f3-a3bd-dde51992f413",
   "metadata": {},
   "source": [
    "The elements in <code>album_set2</code> but not in <code>album_set1</code> is given by:\n"
   ]
  },
  {
   "cell_type": "code",
   "execution_count": 14,
   "id": "1f7cc014-644f-4d4e-995f-181c64ef6e2d",
   "metadata": {},
   "outputs": [
    {
     "data": {
      "text/plain": [
       "{'The Dark Side of the Moon'}"
      ]
     },
     "execution_count": 14,
     "metadata": {},
     "output_type": "execute_result"
    }
   ],
   "source": [
    "album_set2.difference(album_set1)  "
   ]
  },
  {
   "cell_type": "markdown",
   "id": "81406b39-b5f7-4ae0-8f76-dcff6299f5c8",
   "metadata": {},
   "source": [
    "<img src=\"https://cf-courses-data.s3.us.cloud-object-storage.appdomain.cloud/IBMDeveloperSkillsNetwork-PY0101EN-SkillsNetwork/labs/Module%202/images/SetsRight.png\" width=\"650\">\n"
   ]
  },
  {
   "cell_type": "markdown",
   "id": "2b33d5d6-dac5-4143-aae2-6584e6174edb",
   "metadata": {},
   "source": [
    "You can also find the intersection of <code>album_list1</code> and <code>album_list2</code>, using the <code>intersection</code> method:\n"
   ]
  },
  {
   "cell_type": "code",
   "execution_count": 15,
   "id": "555f6f56-dc61-4aeb-b966-de2c8988556e",
   "metadata": {},
   "outputs": [
    {
     "data": {
      "text/plain": [
       "{'AC/DC', 'Back in Black'}"
      ]
     },
     "execution_count": 15,
     "metadata": {},
     "output_type": "execute_result"
    }
   ],
   "source": [
    "# Use intersection method to find the intersection of album_list1 and album_list2\n",
    "\n",
    "album_set1.intersection(album_set2)   "
   ]
  },
  {
   "cell_type": "markdown",
   "id": "f270ab69-502f-468b-b603-785afe73fdef",
   "metadata": {},
   "source": [
    " This corresponds to the intersection of the two circles:\n"
   ]
  },
  {
   "cell_type": "markdown",
   "id": "3a42a10a-afca-43fb-a343-d5e1b447d722",
   "metadata": {},
   "source": [
    "<img src=\"https://cf-courses-data.s3.us.cloud-object-storage.appdomain.cloud/IBMDeveloperSkillsNetwork-PY0101EN-SkillsNetwork/labs/Module%202/images/SetsIntersect.png\" width=\"650\">\n"
   ]
  },
  {
   "cell_type": "markdown",
   "id": "84781f64-8f15-43c7-bfc3-e6f87ecc63e7",
   "metadata": {},
   "source": [
    "The union corresponds to all the elements in both sets, which is represented by coloring both circles:\n"
   ]
  },
  {
   "cell_type": "markdown",
   "id": "150b29b0-c095-4ffb-a648-8f4afdc523fc",
   "metadata": {},
   "source": [
    "<img src=\"https://cf-courses-data.s3.us.cloud-object-storage.appdomain.cloud/IBMDeveloperSkillsNetwork-PY0101EN-SkillsNetwork/labs/Module%202/images/SetsUnion.png\" width=\"650\">\n"
   ]
  },
  {
   "cell_type": "markdown",
   "id": "2dba2aed-f237-4ca3-9279-9d6751d0f5e8",
   "metadata": {},
   "source": [
    " The union is given by:\n"
   ]
  },
  {
   "cell_type": "code",
   "execution_count": 16,
   "id": "31f79898-df2c-45fa-8135-e97647c9988f",
   "metadata": {},
   "outputs": [
    {
     "data": {
      "text/plain": [
       "{'AC/DC', 'Back in Black', 'The Dark Side of the Moon', 'Thriller'}"
      ]
     },
     "execution_count": 16,
     "metadata": {},
     "output_type": "execute_result"
    }
   ],
   "source": [
    "# Find the union of two sets\n",
    "\n",
    "album_set1.union(album_set2)"
   ]
  },
  {
   "cell_type": "markdown",
   "id": "6d166064-7769-4466-9147-2a0dd09736ec",
   "metadata": {},
   "source": [
    "And you can check if a set is a superset or subset of another set, respectively, like this:\n"
   ]
  },
  {
   "cell_type": "code",
   "execution_count": 17,
   "id": "31324551-8ad2-41a7-9537-0e9494182f78",
   "metadata": {},
   "outputs": [
    {
     "data": {
      "text/plain": [
       "False"
      ]
     },
     "execution_count": 17,
     "metadata": {},
     "output_type": "execute_result"
    }
   ],
   "source": [
    "# Check if superset\n",
    "\n",
    "set(album_set1).issuperset(album_set2)   "
   ]
  },
  {
   "cell_type": "code",
   "execution_count": 18,
   "id": "b4b5f89c-374e-40ea-a129-ed57326c8717",
   "metadata": {},
   "outputs": [
    {
     "data": {
      "text/plain": [
       "False"
      ]
     },
     "execution_count": 18,
     "metadata": {},
     "output_type": "execute_result"
    }
   ],
   "source": [
    "# Check if subset\n",
    "\n",
    "set(album_set2).issubset(album_set1)     "
   ]
  },
  {
   "cell_type": "markdown",
   "id": "70819b79-1183-41e9-bb4d-85977efb13dd",
   "metadata": {},
   "source": [
    "Here is an example where <code>issubset()</code> and <code>issuperset()</code> return true:\n"
   ]
  },
  {
   "cell_type": "code",
   "execution_count": 19,
   "id": "231cd141-3824-445a-9cd9-d0f81cb6458e",
   "metadata": {},
   "outputs": [
    {
     "data": {
      "text/plain": [
       "True"
      ]
     },
     "execution_count": 19,
     "metadata": {},
     "output_type": "execute_result"
    }
   ],
   "source": [
    "# Check if subset\n",
    "\n",
    "set({\"Back in Black\", \"AC/DC\"}).issubset(album_set1) "
   ]
  },
  {
   "cell_type": "code",
   "execution_count": 20,
   "id": "a7b92894-cca6-49e4-a361-b2f5140868f0",
   "metadata": {},
   "outputs": [
    {
     "data": {
      "text/plain": [
       "True"
      ]
     },
     "execution_count": 20,
     "metadata": {},
     "output_type": "execute_result"
    }
   ],
   "source": [
    "# Check if superset\n",
    "\n",
    "album_set1.issuperset({\"Back in Black\", \"AC/DC\"})   "
   ]
  },
  {
   "cell_type": "markdown",
   "id": "020d3d30-820a-4dcc-8120-0079e0702420",
   "metadata": {},
   "source": [
    "<hr>\n"
   ]
  },
  {
   "cell_type": "markdown",
   "id": "1cfd753b-d01c-44a3-81e8-728b92d8cec5",
   "metadata": {},
   "source": [
    "<h2 id=\"quiz\">Quiz on Sets</h2>\n"
   ]
  },
  {
   "cell_type": "markdown",
   "id": "3fee1df6-ef02-49ce-ad9a-fea5d5aa994a",
   "metadata": {},
   "source": [
    "Convert the list <code>['rap','house','electronic music', 'rap']</code> to a set:\n"
   ]
  },
  {
   "cell_type": "code",
   "execution_count": 26,
   "id": "faa81b8d-0f9d-4e25-9ee6-83a5c7bdf26e",
   "metadata": {},
   "outputs": [
    {
     "data": {
      "text/plain": [
       "{'00:42:19',\n",
       " 10.0,\n",
       " 1982,\n",
       " '30-Nov-82',\n",
       " 46.0,\n",
       " 65,\n",
       " 'Michael Jackson',\n",
       " None,\n",
       " 'Pop, Rock, R&B',\n",
       " 'Thriller'}"
      ]
     },
     "execution_count": 26,
     "metadata": {},
     "output_type": "execute_result"
    }
   ],
   "source": [
    "# Write your code below and press Shift+Enter to execute\n",
    "listl = ['Michael Jackson', 'Thriller', 1982, \"00:42:19\", \"Pop, Rock, R&B\", 46.0, 65, \"30-Nov-82\", None, 10.0]\n",
    "\n",
    "list_Set = set(listl)\n",
    "list_Set"
   ]
  },
  {
   "cell_type": "markdown",
   "id": "3c6f429e-a67b-43bf-8fca-5a5bc70d7f16",
   "metadata": {},
   "source": [
    "<details><summary>Click here for the solution</summary>\n",
    "\n",
    "```python\n",
    "set(['rap','house','electronic music','rap'])\n",
    "\n",
    "```\n",
    "\n",
    "</details>\n"
   ]
  },
  {
   "cell_type": "markdown",
   "id": "d5f18b36-ed78-4c8d-a29f-a99baafccebc",
   "metadata": {},
   "source": [
    "<hr>\n"
   ]
  },
  {
   "cell_type": "markdown",
   "id": "ded5f954-758b-4366-9fd3-ede942d0594f",
   "metadata": {},
   "source": [
    "Consider the list <code>A = [1, 2, 2, 1]</code> and set <code>B = set([1, 2, 2, 1])</code>, does <code>sum(A) == sum(B)</code>? \n"
   ]
  },
  {
   "cell_type": "code",
   "execution_count": 28,
   "id": "b54fef14-1312-4009-bfad-add7c159c88f",
   "metadata": {},
   "outputs": [
    {
     "name": "stdout",
     "output_type": "stream",
     "text": [
      "The Sum of A is :  6\n",
      "The Sum of B is :  3\n"
     ]
    }
   ],
   "source": [
    "# Write your code below and press Shift+Enter to execute\n",
    "A = [1, 2, 2, 1]\n",
    "\n",
    "B = set([1, 2, 2, 1])\n",
    "\n",
    "# Print the sum of the unique elements in set A\n",
    "print(\"The Sum of A is : \", sum(A))\n",
    "print(\"The Sum of B is : \", sum(B))"
   ]
  },
  {
   "cell_type": "markdown",
   "id": "31253136-9fa3-4db2-a147-7345534cb9c6",
   "metadata": {},
   "source": [
    "<details><summary>Click here for the solution</summary>\n",
    "\n",
    "```python\n",
    "A = [1, 2, 2, 1]  \n",
    "B = set([1, 2, 2, 1])\n",
    "print(\"the sum of A is:\", sum(A))\n",
    "print(\"the sum of B is:\", sum(B))\n",
    "\n",
    "```\n",
    "\n",
    "</details>\n"
   ]
  },
  {
   "cell_type": "markdown",
   "id": "5b671ad3-cab6-40c1-8a09-b5b7cb6803e4",
   "metadata": {},
   "source": [
    "<hr>\n"
   ]
  },
  {
   "cell_type": "markdown",
   "id": "78769a72-ce9f-4f41-b7f0-1849bbbeee65",
   "metadata": {},
   "source": [
    "Create a new set <code>album_set3</code> that is the union of <code>album_set1</code> and <code>album_set2</code>:\n"
   ]
  },
  {
   "cell_type": "code",
   "execution_count": 29,
   "id": "0842f3e6-62a2-43d7-b2ae-4aa158d819e5",
   "metadata": {},
   "outputs": [],
   "source": [
    "# Write your code below and press Shift+Enter to execute\n",
    "\n",
    "album_set1 = set([\"Thriller\", 'AC/DC', 'Back in Black'])\n",
    "album_set2 = set([ \"AC/DC\", \"Back in Black\", \"The Dark Side of the Moon\"])\n",
    "akbumm_set3 = album_set1.union(album_set2)"
   ]
  },
  {
   "cell_type": "markdown",
   "id": "1197b5bf-2e9b-42db-ba21-1cd3817edf86",
   "metadata": {},
   "source": [
    "<details><summary>Click here for the solution</summary>\n",
    "\n",
    "```python\n",
    "album_set3 = album_set1.union(album_set2)\n",
    "album_set3\n",
    "\n",
    "```\n",
    "\n",
    "</details>\n"
   ]
  },
  {
   "cell_type": "markdown",
   "id": "bf2736de-4d56-4757-8182-d572f05cff68",
   "metadata": {},
   "source": [
    "<hr>\n"
   ]
  },
  {
   "cell_type": "markdown",
   "id": "40908593-362f-4440-9f67-28da58dbb216",
   "metadata": {},
   "source": [
    "Find out if <code>album_set1</code> is a subset of <code>album_set3</code>:\n"
   ]
  },
  {
   "cell_type": "code",
   "execution_count": 30,
   "id": "079963e5-1677-4ca4-81c5-1c6f15303adf",
   "metadata": {},
   "outputs": [
    {
     "data": {
      "text/plain": [
       "False"
      ]
     },
     "execution_count": 30,
     "metadata": {},
     "output_type": "execute_result"
    }
   ],
   "source": [
    "# Write your code below and press Shift+Enter to execute\n",
    "album_set1.isdisjoint(album_set2)"
   ]
  },
  {
   "cell_type": "markdown",
   "id": "677944b9-a3dd-496c-8d93-25b613201112",
   "metadata": {},
   "source": [
    "<details><summary>Click here for the solution</summary>\n",
    "\n",
    "```python\n",
    "album_set1.issubset(album_set3)\n",
    "\n",
    "```\n",
    "\n",
    "</details>\n"
   ]
  },
  {
   "cell_type": "markdown",
   "id": "dfdc2e44-3eb7-4630-9e09-82333cbf7dae",
   "metadata": {},
   "source": [
    "<hr>\n",
    "<h2>The last exercise!</h2>\n",
    "<p>Congratulations, you have completed your first lesson and hands-on lab in Python. \n",
    "<hr>\n"
   ]
  },
  {
   "cell_type": "markdown",
   "id": "c28bd69b-24bf-4c8c-a3b2-c5369e4958f5",
   "metadata": {},
   "source": [
    "## Author\n",
    "\n",
    "<a href=\"https://www.linkedin.com/in/joseph-s-50398b136/\" target=\"_blank\">Joseph Santarcangelo</a>\n",
    "\n",
    "\n",
    "## Other contributors\n",
    "\n",
    "<a href=\"www.linkedin.com/in/jiahui-mavis-zhou-a4537814a\">Mavis Zhou</a>\n",
    "\n",
    "\n",
    "## Change Log\n",
    "\n",
    "\n",
    "|  Date (YYYY-MM-DD) |  Version | Changed By  |  Change Description |\n",
    "|---|---|---|---|\n",
    "| 2022-01-10  | 2.1  | Malika  | Removed the readme for GitShare|\n",
    "| 2020-08-26  | 2.0  | Lavanya | Moved lab to course repo in GitLab |\n",
    "|   |   |   |   |\n",
    "|   |   |   |   |\n",
    "\n",
    "\n",
    "## <h3 align=\"center\"> © IBM Corporation 2020. All rights reserved. <h3/>\n"
   ]
  }
 ],
 "metadata": {
  "kernelspec": {
   "display_name": "Python 3",
   "language": "python",
   "name": "python3"
  },
  "language_info": {
   "codemirror_mode": {
    "name": "ipython",
    "version": 3
   },
   "file_extension": ".py",
   "mimetype": "text/x-python",
   "name": "python",
   "nbconvert_exporter": "python",
   "pygments_lexer": "ipython3",
   "version": "3.12.3"
  },
  "prev_pub_hash": "9fdc7c9a82f917015c7bc3ae04aed27200a10224d18167472f0be0197df44307"
 },
 "nbformat": 4,
 "nbformat_minor": 4
}
